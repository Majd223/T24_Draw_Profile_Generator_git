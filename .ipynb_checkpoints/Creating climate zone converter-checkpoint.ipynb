{
 "cells": [
  {
   "cell_type": "code",
   "execution_count": 1,
   "metadata": {},
   "outputs": [
    {
     "data": {
      "text/plain": [
       "range(0, 17)"
      ]
     },
     "execution_count": 1,
     "metadata": {},
     "output_type": "execute_result"
    }
   ],
   "source": [
    "range(17)"
   ]
  },
  {
   "cell_type": "code",
   "execution_count": 18,
   "metadata": {},
   "outputs": [],
   "source": [
    "Possible_Climate_Zones = list(range(1,17)) # list of all possible climate zones\n",
    "New_Climate_Zones = [1,2,16] #specify which climate zones to convert the file to - can be a number from 1-16"
   ]
  },
  {
   "cell_type": "code",
   "execution_count": 15,
   "metadata": {},
   "outputs": [
    {
     "data": {
      "text/plain": [
       "True"
      ]
     },
     "execution_count": 15,
     "metadata": {},
     "output_type": "execute_result"
    }
   ],
   "source": [
    "len(set(Possible_Climate_Zones) & set(New_Climate_Zones)) == 0"
   ]
  },
  {
   "cell_type": "code",
   "execution_count": 14,
   "metadata": {},
   "outputs": [
    {
     "ename": "AttributeError",
     "evalue": "'list' object has no attribute 'intersection'",
     "output_type": "error",
     "traceback": [
      "\u001b[0;31m---------------------------------------------------------------------------\u001b[0m",
      "\u001b[0;31mAttributeError\u001b[0m                            Traceback (most recent call last)",
      "\u001b[0;32m<ipython-input-14-d1826c516014>\u001b[0m in \u001b[0;36m<module>\u001b[0;34m\u001b[0m\n\u001b[0;32m----> 1\u001b[0;31m \u001b[0mPossible_Climate_Zones\u001b[0m\u001b[0;34m.\u001b[0m\u001b[0mintersection\u001b[0m\u001b[0;34m(\u001b[0m\u001b[0mNew_Climate_Zones\u001b[0m\u001b[0;34m)\u001b[0m\u001b[0;34m\u001b[0m\u001b[0;34m\u001b[0m\u001b[0m\n\u001b[0m",
      "\u001b[0;31mAttributeError\u001b[0m: 'list' object has no attribute 'intersection'"
     ]
    }
   ],
   "source": [
    "Possible_Climate_Zones.intersection(New_Climate_Zones)"
   ]
  },
  {
   "cell_type": "code",
   "execution_count": 19,
   "metadata": {},
   "outputs": [
    {
     "data": {
      "text/plain": [
       "False"
      ]
     },
     "execution_count": 19,
     "metadata": {},
     "output_type": "execute_result"
    }
   ],
   "source": [
    "max(New_Climate_Zones) > 16 or min(New_Climate_Zones) < 1"
   ]
  },
  {
   "cell_type": "code",
   "execution_count": 82,
   "metadata": {},
   "outputs": [
    {
     "ename": "FileNotFoundError",
     "evalue": "[Errno 2] File b\"/Users/nathanieliltis/Desktop/GitHub/T24_Draw_Profile_Generator_git/DrawProfiles/Multi/Hot/Building=Multi_Climate=3_Water=Hot_Profile=4a_SDLM=Yes_CFA=600_Included=['F', 'S', 'D'].csv\" does not exist: b\"/Users/nathanieliltis/Desktop/GitHub/T24_Draw_Profile_Generator_git/DrawProfiles/Multi/Hot/Building=Multi_Climate=3_Water=Hot_Profile=4a_SDLM=Yes_CFA=600_Included=['F', 'S', 'D'].csv\"",
     "output_type": "error",
     "traceback": [
      "\u001b[0;31m---------------------------------------------------------------------------\u001b[0m",
      "\u001b[0;31mFileNotFoundError\u001b[0m                         Traceback (most recent call last)",
      "\u001b[0;32m~/Desktop/GitHub/T24_Draw_Profile_Generator_git/Convert_Profile_Climate_Zone.py\u001b[0m in \u001b[0;36m<module>\u001b[0;34m\u001b[0m\n\u001b[1;32m    114\u001b[0m     \u001b[0mZones_Dict\u001b[0m\u001b[0;34m[\u001b[0m\u001b[0meach\u001b[0m\u001b[0;34m]\u001b[0m \u001b[0;34m=\u001b[0m \u001b[0mT_Mains\u001b[0m\u001b[0;34m\u001b[0m\u001b[0;34m\u001b[0m\u001b[0m\n\u001b[1;32m    115\u001b[0m \u001b[0;31m#%%---------------------------GENERATE AND SAVE REQUESTED DRAW PROFILES---------\u001b[0m\u001b[0;34m\u001b[0m\u001b[0;34m\u001b[0m\u001b[0;34m\u001b[0m\u001b[0m\n\u001b[0;32m--> 116\u001b[0;31m \u001b[0mData\u001b[0m \u001b[0;34m=\u001b[0m \u001b[0mpd\u001b[0m\u001b[0;34m.\u001b[0m\u001b[0mread_csv\u001b[0m\u001b[0;34m(\u001b[0m\u001b[0mFile_Location\u001b[0m\u001b[0;34m)\u001b[0m \u001b[0;31m#Read the file to be converted\u001b[0m\u001b[0;34m\u001b[0m\u001b[0;34m\u001b[0m\u001b[0m\n\u001b[0m\u001b[1;32m    117\u001b[0m \u001b[0mproper_order\u001b[0m \u001b[0;34m=\u001b[0m \u001b[0mData\u001b[0m\u001b[0;34m.\u001b[0m\u001b[0mcolumns\u001b[0m\u001b[0;34m.\u001b[0m\u001b[0mto_list\u001b[0m\u001b[0;34m(\u001b[0m\u001b[0;34m)\u001b[0m \u001b[0;31m#reference correct column order\u001b[0m\u001b[0;34m\u001b[0m\u001b[0;34m\u001b[0m\u001b[0m\n\u001b[1;32m    118\u001b[0m \u001b[0;32mfor\u001b[0m \u001b[0meach\u001b[0m \u001b[0;32min\u001b[0m \u001b[0mZones_Dict\u001b[0m\u001b[0;34m:\u001b[0m \u001b[0;31m#repeat for each new zone required\u001b[0m\u001b[0;34m\u001b[0m\u001b[0;34m\u001b[0m\u001b[0m\n",
      "\u001b[0;32m~/anaconda3/lib/python3.7/site-packages/pandas/io/parsers.py\u001b[0m in \u001b[0;36mparser_f\u001b[0;34m(filepath_or_buffer, sep, delimiter, header, names, index_col, usecols, squeeze, prefix, mangle_dupe_cols, dtype, engine, converters, true_values, false_values, skipinitialspace, skiprows, skipfooter, nrows, na_values, keep_default_na, na_filter, verbose, skip_blank_lines, parse_dates, infer_datetime_format, keep_date_col, date_parser, dayfirst, iterator, chunksize, compression, thousands, decimal, lineterminator, quotechar, quoting, doublequote, escapechar, comment, encoding, dialect, tupleize_cols, error_bad_lines, warn_bad_lines, delim_whitespace, low_memory, memory_map, float_precision)\u001b[0m\n\u001b[1;32m    700\u001b[0m                     skip_blank_lines=skip_blank_lines)\n\u001b[1;32m    701\u001b[0m \u001b[0;34m\u001b[0m\u001b[0m\n\u001b[0;32m--> 702\u001b[0;31m         \u001b[0;32mreturn\u001b[0m \u001b[0m_read\u001b[0m\u001b[0;34m(\u001b[0m\u001b[0mfilepath_or_buffer\u001b[0m\u001b[0;34m,\u001b[0m \u001b[0mkwds\u001b[0m\u001b[0;34m)\u001b[0m\u001b[0;34m\u001b[0m\u001b[0;34m\u001b[0m\u001b[0m\n\u001b[0m\u001b[1;32m    703\u001b[0m \u001b[0;34m\u001b[0m\u001b[0m\n\u001b[1;32m    704\u001b[0m     \u001b[0mparser_f\u001b[0m\u001b[0;34m.\u001b[0m\u001b[0m__name__\u001b[0m \u001b[0;34m=\u001b[0m \u001b[0mname\u001b[0m\u001b[0;34m\u001b[0m\u001b[0;34m\u001b[0m\u001b[0m\n",
      "\u001b[0;32m~/anaconda3/lib/python3.7/site-packages/pandas/io/parsers.py\u001b[0m in \u001b[0;36m_read\u001b[0;34m(filepath_or_buffer, kwds)\u001b[0m\n\u001b[1;32m    427\u001b[0m \u001b[0;34m\u001b[0m\u001b[0m\n\u001b[1;32m    428\u001b[0m     \u001b[0;31m# Create the parser.\u001b[0m\u001b[0;34m\u001b[0m\u001b[0;34m\u001b[0m\u001b[0;34m\u001b[0m\u001b[0m\n\u001b[0;32m--> 429\u001b[0;31m     \u001b[0mparser\u001b[0m \u001b[0;34m=\u001b[0m \u001b[0mTextFileReader\u001b[0m\u001b[0;34m(\u001b[0m\u001b[0mfilepath_or_buffer\u001b[0m\u001b[0;34m,\u001b[0m \u001b[0;34m**\u001b[0m\u001b[0mkwds\u001b[0m\u001b[0;34m)\u001b[0m\u001b[0;34m\u001b[0m\u001b[0;34m\u001b[0m\u001b[0m\n\u001b[0m\u001b[1;32m    430\u001b[0m \u001b[0;34m\u001b[0m\u001b[0m\n\u001b[1;32m    431\u001b[0m     \u001b[0;32mif\u001b[0m \u001b[0mchunksize\u001b[0m \u001b[0;32mor\u001b[0m \u001b[0miterator\u001b[0m\u001b[0;34m:\u001b[0m\u001b[0;34m\u001b[0m\u001b[0;34m\u001b[0m\u001b[0m\n",
      "\u001b[0;32m~/anaconda3/lib/python3.7/site-packages/pandas/io/parsers.py\u001b[0m in \u001b[0;36m__init__\u001b[0;34m(self, f, engine, **kwds)\u001b[0m\n\u001b[1;32m    893\u001b[0m             \u001b[0mself\u001b[0m\u001b[0;34m.\u001b[0m\u001b[0moptions\u001b[0m\u001b[0;34m[\u001b[0m\u001b[0;34m'has_index_names'\u001b[0m\u001b[0;34m]\u001b[0m \u001b[0;34m=\u001b[0m \u001b[0mkwds\u001b[0m\u001b[0;34m[\u001b[0m\u001b[0;34m'has_index_names'\u001b[0m\u001b[0;34m]\u001b[0m\u001b[0;34m\u001b[0m\u001b[0;34m\u001b[0m\u001b[0m\n\u001b[1;32m    894\u001b[0m \u001b[0;34m\u001b[0m\u001b[0m\n\u001b[0;32m--> 895\u001b[0;31m         \u001b[0mself\u001b[0m\u001b[0;34m.\u001b[0m\u001b[0m_make_engine\u001b[0m\u001b[0;34m(\u001b[0m\u001b[0mself\u001b[0m\u001b[0;34m.\u001b[0m\u001b[0mengine\u001b[0m\u001b[0;34m)\u001b[0m\u001b[0;34m\u001b[0m\u001b[0;34m\u001b[0m\u001b[0m\n\u001b[0m\u001b[1;32m    896\u001b[0m \u001b[0;34m\u001b[0m\u001b[0m\n\u001b[1;32m    897\u001b[0m     \u001b[0;32mdef\u001b[0m \u001b[0mclose\u001b[0m\u001b[0;34m(\u001b[0m\u001b[0mself\u001b[0m\u001b[0;34m)\u001b[0m\u001b[0;34m:\u001b[0m\u001b[0;34m\u001b[0m\u001b[0;34m\u001b[0m\u001b[0m\n",
      "\u001b[0;32m~/anaconda3/lib/python3.7/site-packages/pandas/io/parsers.py\u001b[0m in \u001b[0;36m_make_engine\u001b[0;34m(self, engine)\u001b[0m\n\u001b[1;32m   1120\u001b[0m     \u001b[0;32mdef\u001b[0m \u001b[0m_make_engine\u001b[0m\u001b[0;34m(\u001b[0m\u001b[0mself\u001b[0m\u001b[0;34m,\u001b[0m \u001b[0mengine\u001b[0m\u001b[0;34m=\u001b[0m\u001b[0;34m'c'\u001b[0m\u001b[0;34m)\u001b[0m\u001b[0;34m:\u001b[0m\u001b[0;34m\u001b[0m\u001b[0;34m\u001b[0m\u001b[0m\n\u001b[1;32m   1121\u001b[0m         \u001b[0;32mif\u001b[0m \u001b[0mengine\u001b[0m \u001b[0;34m==\u001b[0m \u001b[0;34m'c'\u001b[0m\u001b[0;34m:\u001b[0m\u001b[0;34m\u001b[0m\u001b[0;34m\u001b[0m\u001b[0m\n\u001b[0;32m-> 1122\u001b[0;31m             \u001b[0mself\u001b[0m\u001b[0;34m.\u001b[0m\u001b[0m_engine\u001b[0m \u001b[0;34m=\u001b[0m \u001b[0mCParserWrapper\u001b[0m\u001b[0;34m(\u001b[0m\u001b[0mself\u001b[0m\u001b[0;34m.\u001b[0m\u001b[0mf\u001b[0m\u001b[0;34m,\u001b[0m \u001b[0;34m**\u001b[0m\u001b[0mself\u001b[0m\u001b[0;34m.\u001b[0m\u001b[0moptions\u001b[0m\u001b[0;34m)\u001b[0m\u001b[0;34m\u001b[0m\u001b[0;34m\u001b[0m\u001b[0m\n\u001b[0m\u001b[1;32m   1123\u001b[0m         \u001b[0;32melse\u001b[0m\u001b[0;34m:\u001b[0m\u001b[0;34m\u001b[0m\u001b[0;34m\u001b[0m\u001b[0m\n\u001b[1;32m   1124\u001b[0m             \u001b[0;32mif\u001b[0m \u001b[0mengine\u001b[0m \u001b[0;34m==\u001b[0m \u001b[0;34m'python'\u001b[0m\u001b[0;34m:\u001b[0m\u001b[0;34m\u001b[0m\u001b[0;34m\u001b[0m\u001b[0m\n",
      "\u001b[0;32m~/anaconda3/lib/python3.7/site-packages/pandas/io/parsers.py\u001b[0m in \u001b[0;36m__init__\u001b[0;34m(self, src, **kwds)\u001b[0m\n\u001b[1;32m   1851\u001b[0m         \u001b[0mkwds\u001b[0m\u001b[0;34m[\u001b[0m\u001b[0;34m'usecols'\u001b[0m\u001b[0;34m]\u001b[0m \u001b[0;34m=\u001b[0m \u001b[0mself\u001b[0m\u001b[0;34m.\u001b[0m\u001b[0musecols\u001b[0m\u001b[0;34m\u001b[0m\u001b[0;34m\u001b[0m\u001b[0m\n\u001b[1;32m   1852\u001b[0m \u001b[0;34m\u001b[0m\u001b[0m\n\u001b[0;32m-> 1853\u001b[0;31m         \u001b[0mself\u001b[0m\u001b[0;34m.\u001b[0m\u001b[0m_reader\u001b[0m \u001b[0;34m=\u001b[0m \u001b[0mparsers\u001b[0m\u001b[0;34m.\u001b[0m\u001b[0mTextReader\u001b[0m\u001b[0;34m(\u001b[0m\u001b[0msrc\u001b[0m\u001b[0;34m,\u001b[0m \u001b[0;34m**\u001b[0m\u001b[0mkwds\u001b[0m\u001b[0;34m)\u001b[0m\u001b[0;34m\u001b[0m\u001b[0;34m\u001b[0m\u001b[0m\n\u001b[0m\u001b[1;32m   1854\u001b[0m         \u001b[0mself\u001b[0m\u001b[0;34m.\u001b[0m\u001b[0munnamed_cols\u001b[0m \u001b[0;34m=\u001b[0m \u001b[0mself\u001b[0m\u001b[0;34m.\u001b[0m\u001b[0m_reader\u001b[0m\u001b[0;34m.\u001b[0m\u001b[0munnamed_cols\u001b[0m\u001b[0;34m\u001b[0m\u001b[0;34m\u001b[0m\u001b[0m\n\u001b[1;32m   1855\u001b[0m \u001b[0;34m\u001b[0m\u001b[0m\n",
      "\u001b[0;32mpandas/_libs/parsers.pyx\u001b[0m in \u001b[0;36mpandas._libs.parsers.TextReader.__cinit__\u001b[0;34m()\u001b[0m\n",
      "\u001b[0;32mpandas/_libs/parsers.pyx\u001b[0m in \u001b[0;36mpandas._libs.parsers.TextReader._setup_parser_source\u001b[0;34m()\u001b[0m\n",
      "\u001b[0;31mFileNotFoundError\u001b[0m: [Errno 2] File b\"/Users/nathanieliltis/Desktop/GitHub/T24_Draw_Profile_Generator_git/DrawProfiles/Multi/Hot/Building=Multi_Climate=3_Water=Hot_Profile=4a_SDLM=Yes_CFA=600_Included=['F', 'S', 'D'].csv\" does not exist: b\"/Users/nathanieliltis/Desktop/GitHub/T24_Draw_Profile_Generator_git/DrawProfiles/Multi/Hot/Building=Multi_Climate=3_Water=Hot_Profile=4a_SDLM=Yes_CFA=600_Included=['F', 'S', 'D'].csv\""
     ]
    }
   ],
   "source": [
    "%run Convert_Profile_Climate_Zone.py"
   ]
  },
  {
   "cell_type": "code",
   "execution_count": 54,
   "metadata": {},
   "outputs": [
    {
     "name": "stderr",
     "output_type": "stream",
     "text": [
      "/Users/nathanieliltis/anaconda3/lib/python3.7/site-packages/pandas/core/frame.py:6692: FutureWarning: Sorting because non-concatenation axis is not aligned. A future version\n",
      "of pandas will change to not sort by default.\n",
      "\n",
      "To accept the future behavior, pass 'sort=False'.\n",
      "\n",
      "To retain the current behavior and silence the warning, pass 'sort=True'.\n",
      "\n",
      "  sort=sort)\n"
     ]
    },
    {
     "name": "stdout",
     "output_type": "stream",
     "text": [
      "total = 3.3631491661071777, mixed = 0, hot = 0\n"
     ]
    }
   ],
   "source": [
    "%run T24_Draw_Profile_Generator.py"
   ]
  },
  {
   "cell_type": "code",
   "execution_count": 74,
   "metadata": {},
   "outputs": [],
   "source": [
    "from_orig_9 = pd.read_csv(converted_file.replace(\"_test\",\"\"))\n",
    "from_convert_9 = pd.read_csv(converted_file)\n",
    "from_orig_3 = pd.read_csv(File_Location)"
   ]
  },
  {
   "cell_type": "code",
   "execution_count": 72,
   "metadata": {},
   "outputs": [
    {
     "data": {
      "text/plain": [
       "['Day',\n",
       " 'Day of Year (Day)',\n",
       " 'Duration (min)',\n",
       " 'Fixture',\n",
       " 'Flow Rate (gpm)',\n",
       " 'Mains Temperature (deg F)',\n",
       " 'Start Time of Year (hr)',\n",
       " 'Start time (hr)',\n",
       " 'Fraction Hot Water',\n",
       " 'Hot Water Flow Rate (gpm)',\n",
       " 'Hot Water Volume (gal)']"
      ]
     },
     "execution_count": 72,
     "metadata": {},
     "output_type": "execute_result"
    }
   ],
   "source": [
    "from_orig_3.columns.to_list()"
   ]
  },
  {
   "cell_type": "code",
   "execution_count": 81,
   "metadata": {},
   "outputs": [
    {
     "data": {
      "text/html": [
       "<div>\n",
       "<style scoped>\n",
       "    .dataframe tbody tr th:only-of-type {\n",
       "        vertical-align: middle;\n",
       "    }\n",
       "\n",
       "    .dataframe tbody tr th {\n",
       "        vertical-align: top;\n",
       "    }\n",
       "\n",
       "    .dataframe thead th {\n",
       "        text-align: right;\n",
       "    }\n",
       "</style>\n",
       "<table border=\"1\" class=\"dataframe\">\n",
       "  <thead>\n",
       "    <tr style=\"text-align: right;\">\n",
       "      <th></th>\n",
       "      <th>Day</th>\n",
       "      <th>Day of Year (Day)</th>\n",
       "      <th>Duration (min)</th>\n",
       "      <th>Fixture</th>\n",
       "      <th>Flow Rate (gpm)</th>\n",
       "      <th>Mains Temperature (deg F)</th>\n",
       "      <th>Start Time of Year (hr)</th>\n",
       "      <th>Start time (hr)</th>\n",
       "      <th>Fraction Hot Water</th>\n",
       "      <th>Hot Water Flow Rate (gpm)</th>\n",
       "      <th>Hot Water Volume (gal)</th>\n",
       "    </tr>\n",
       "  </thead>\n",
       "  <tbody>\n",
       "    <tr>\n",
       "      <th>25517</th>\n",
       "      <td>2D9</td>\n",
       "      <td>365.0</td>\n",
       "      <td>0.155</td>\n",
       "      <td>FAUC</td>\n",
       "      <td>1.849101</td>\n",
       "      <td>59.015</td>\n",
       "      <td>8755.89</td>\n",
       "      <td>19.89</td>\n",
       "      <td>0.5</td>\n",
       "      <td>0.924550</td>\n",
       "      <td>0.143305</td>\n",
       "    </tr>\n",
       "    <tr>\n",
       "      <th>25518</th>\n",
       "      <td>2D9</td>\n",
       "      <td>365.0</td>\n",
       "      <td>0.465</td>\n",
       "      <td>FAUC</td>\n",
       "      <td>1.062956</td>\n",
       "      <td>59.015</td>\n",
       "      <td>8755.90</td>\n",
       "      <td>19.90</td>\n",
       "      <td>0.5</td>\n",
       "      <td>0.531478</td>\n",
       "      <td>0.247137</td>\n",
       "    </tr>\n",
       "    <tr>\n",
       "      <th>25519</th>\n",
       "      <td>2D9</td>\n",
       "      <td>365.0</td>\n",
       "      <td>1.239</td>\n",
       "      <td>FAUC</td>\n",
       "      <td>1.116104</td>\n",
       "      <td>59.015</td>\n",
       "      <td>8756.13</td>\n",
       "      <td>20.13</td>\n",
       "      <td>0.5</td>\n",
       "      <td>0.558052</td>\n",
       "      <td>0.691426</td>\n",
       "    </tr>\n",
       "    <tr>\n",
       "      <th>25520</th>\n",
       "      <td>2D9</td>\n",
       "      <td>365.0</td>\n",
       "      <td>0.155</td>\n",
       "      <td>FAUC</td>\n",
       "      <td>1.148214</td>\n",
       "      <td>59.015</td>\n",
       "      <td>8756.17</td>\n",
       "      <td>20.17</td>\n",
       "      <td>0.5</td>\n",
       "      <td>0.574107</td>\n",
       "      <td>0.088987</td>\n",
       "    </tr>\n",
       "    <tr>\n",
       "      <th>25521</th>\n",
       "      <td>2D9</td>\n",
       "      <td>365.0</td>\n",
       "      <td>0.155</td>\n",
       "      <td>FAUC</td>\n",
       "      <td>0.573553</td>\n",
       "      <td>59.015</td>\n",
       "      <td>8756.27</td>\n",
       "      <td>20.27</td>\n",
       "      <td>0.5</td>\n",
       "      <td>0.286777</td>\n",
       "      <td>0.044450</td>\n",
       "    </tr>\n",
       "  </tbody>\n",
       "</table>\n",
       "</div>"
      ],
      "text/plain": [
       "       Day  Day of Year (Day)  Duration (min) Fixture  Flow Rate (gpm)  \\\n",
       "25517  2D9              365.0           0.155    FAUC         1.849101   \n",
       "25518  2D9              365.0           0.465    FAUC         1.062956   \n",
       "25519  2D9              365.0           1.239    FAUC         1.116104   \n",
       "25520  2D9              365.0           0.155    FAUC         1.148214   \n",
       "25521  2D9              365.0           0.155    FAUC         0.573553   \n",
       "\n",
       "       Mains Temperature (deg F)  Start Time of Year (hr)  Start time (hr)  \\\n",
       "25517                     59.015                  8755.89            19.89   \n",
       "25518                     59.015                  8755.90            19.90   \n",
       "25519                     59.015                  8756.13            20.13   \n",
       "25520                     59.015                  8756.17            20.17   \n",
       "25521                     59.015                  8756.27            20.27   \n",
       "\n",
       "       Fraction Hot Water  Hot Water Flow Rate (gpm)  Hot Water Volume (gal)  \n",
       "25517                 0.5                   0.924550                0.143305  \n",
       "25518                 0.5                   0.531478                0.247137  \n",
       "25519                 0.5                   0.558052                0.691426  \n",
       "25520                 0.5                   0.574107                0.088987  \n",
       "25521                 0.5                   0.286777                0.044450  "
      ]
     },
     "execution_count": 81,
     "metadata": {},
     "output_type": "execute_result"
    }
   ],
   "source": [
    "from_orig_9.tail()"
   ]
  },
  {
   "cell_type": "code",
   "execution_count": 79,
   "metadata": {},
   "outputs": [
    {
     "data": {
      "text/html": [
       "<div>\n",
       "<style scoped>\n",
       "    .dataframe tbody tr th:only-of-type {\n",
       "        vertical-align: middle;\n",
       "    }\n",
       "\n",
       "    .dataframe tbody tr th {\n",
       "        vertical-align: top;\n",
       "    }\n",
       "\n",
       "    .dataframe thead th {\n",
       "        text-align: right;\n",
       "    }\n",
       "</style>\n",
       "<table border=\"1\" class=\"dataframe\">\n",
       "  <thead>\n",
       "    <tr style=\"text-align: right;\">\n",
       "      <th></th>\n",
       "      <th>Day</th>\n",
       "      <th>Day of Year (Day)</th>\n",
       "      <th>Duration (min)</th>\n",
       "      <th>Fixture</th>\n",
       "      <th>Flow Rate (gpm)</th>\n",
       "      <th>Mains Temperature (deg F)</th>\n",
       "      <th>Start Time of Year (hr)</th>\n",
       "      <th>Start time (hr)</th>\n",
       "      <th>Fraction Hot Water</th>\n",
       "      <th>Hot Water Flow Rate (gpm)</th>\n",
       "      <th>Hot Water Volume (gal)</th>\n",
       "    </tr>\n",
       "  </thead>\n",
       "  <tbody>\n",
       "    <tr>\n",
       "      <th>25517</th>\n",
       "      <td>2D9</td>\n",
       "      <td>365.0</td>\n",
       "      <td>0.155</td>\n",
       "      <td>FAUC</td>\n",
       "      <td>1.849101</td>\n",
       "      <td>59.015</td>\n",
       "      <td>8755.89</td>\n",
       "      <td>19.89</td>\n",
       "      <td>0.5</td>\n",
       "      <td>0.924550</td>\n",
       "      <td>0.143305</td>\n",
       "    </tr>\n",
       "    <tr>\n",
       "      <th>25518</th>\n",
       "      <td>2D9</td>\n",
       "      <td>365.0</td>\n",
       "      <td>0.465</td>\n",
       "      <td>FAUC</td>\n",
       "      <td>1.062956</td>\n",
       "      <td>59.015</td>\n",
       "      <td>8755.90</td>\n",
       "      <td>19.90</td>\n",
       "      <td>0.5</td>\n",
       "      <td>0.531478</td>\n",
       "      <td>0.247137</td>\n",
       "    </tr>\n",
       "    <tr>\n",
       "      <th>25519</th>\n",
       "      <td>2D9</td>\n",
       "      <td>365.0</td>\n",
       "      <td>1.239</td>\n",
       "      <td>FAUC</td>\n",
       "      <td>1.116104</td>\n",
       "      <td>59.015</td>\n",
       "      <td>8756.13</td>\n",
       "      <td>20.13</td>\n",
       "      <td>0.5</td>\n",
       "      <td>0.558052</td>\n",
       "      <td>0.691426</td>\n",
       "    </tr>\n",
       "    <tr>\n",
       "      <th>25520</th>\n",
       "      <td>2D9</td>\n",
       "      <td>365.0</td>\n",
       "      <td>0.155</td>\n",
       "      <td>FAUC</td>\n",
       "      <td>1.148214</td>\n",
       "      <td>59.015</td>\n",
       "      <td>8756.17</td>\n",
       "      <td>20.17</td>\n",
       "      <td>0.5</td>\n",
       "      <td>0.574107</td>\n",
       "      <td>0.088987</td>\n",
       "    </tr>\n",
       "    <tr>\n",
       "      <th>25521</th>\n",
       "      <td>2D9</td>\n",
       "      <td>365.0</td>\n",
       "      <td>0.155</td>\n",
       "      <td>FAUC</td>\n",
       "      <td>0.573553</td>\n",
       "      <td>59.015</td>\n",
       "      <td>8756.27</td>\n",
       "      <td>20.27</td>\n",
       "      <td>0.5</td>\n",
       "      <td>0.286777</td>\n",
       "      <td>0.044450</td>\n",
       "    </tr>\n",
       "  </tbody>\n",
       "</table>\n",
       "</div>"
      ],
      "text/plain": [
       "       Day  Day of Year (Day)  Duration (min) Fixture  Flow Rate (gpm)  \\\n",
       "25517  2D9              365.0           0.155    FAUC         1.849101   \n",
       "25518  2D9              365.0           0.465    FAUC         1.062956   \n",
       "25519  2D9              365.0           1.239    FAUC         1.116104   \n",
       "25520  2D9              365.0           0.155    FAUC         1.148214   \n",
       "25521  2D9              365.0           0.155    FAUC         0.573553   \n",
       "\n",
       "       Mains Temperature (deg F)  Start Time of Year (hr)  Start time (hr)  \\\n",
       "25517                     59.015                  8755.89            19.89   \n",
       "25518                     59.015                  8755.90            19.90   \n",
       "25519                     59.015                  8756.13            20.13   \n",
       "25520                     59.015                  8756.17            20.17   \n",
       "25521                     59.015                  8756.27            20.27   \n",
       "\n",
       "       Fraction Hot Water  Hot Water Flow Rate (gpm)  Hot Water Volume (gal)  \n",
       "25517                 0.5                   0.924550                0.143305  \n",
       "25518                 0.5                   0.531478                0.247137  \n",
       "25519                 0.5                   0.558052                0.691426  \n",
       "25520                 0.5                   0.574107                0.088987  \n",
       "25521                 0.5                   0.286777                0.044450  "
      ]
     },
     "execution_count": 79,
     "metadata": {},
     "output_type": "execute_result"
    }
   ],
   "source": [
    "from_convert_9.tail()"
   ]
  },
  {
   "cell_type": "code",
   "execution_count": 48,
   "metadata": {},
   "outputs": [
    {
     "data": {
      "text/plain": [
       "Day                          2H72H72H72H72H72H72H72H72H72H72H72H72H72H72H72...\n",
       "Day of Year (Day)                                                  4.06253e+06\n",
       "Duration (min)                                                         14993.8\n",
       "Fixture                      FAUCFAUCFAUCFAUCFAUCFAUCFAUCFAUCDWSHFAUCFAUCFA...\n",
       "Flow Rate (gpm)                                                        20054.8\n",
       "Mains Temperature (deg F)                                          1.26388e+06\n",
       "Start Time of Year (hr)                                             9.7286e+07\n",
       "Start time (hr)                                                         319825\n",
       "Fraction Hot Water                                                     11634.4\n",
       "Hot Water Flow Rate (gpm)                                              10717.6\n",
       "Hot Water Volume (gal)                                                 13338.3\n",
       "dtype: object"
      ]
     },
     "execution_count": 48,
     "metadata": {},
     "output_type": "execute_result"
    }
   ],
   "source": [
    "from_org_3.sum()"
   ]
  },
  {
   "cell_type": "code",
   "execution_count": 49,
   "metadata": {},
   "outputs": [
    {
     "data": {
      "text/plain": [
       "Unnamed: 0                                                           248009856\n",
       "Day                          2H72H72H72H72H72H72H72H72H72H72H72H72H72H72H72...\n",
       "Day of Year (Day)                                                  4.06253e+06\n",
       "Duration (min)                                                         14993.8\n",
       "Fixture                      FAUCFAUCFAUCFAUCFAUCFAUCFAUCFAUCDWSHFAUCFAUCFA...\n",
       "Flow Rate (gpm)                                                        20054.8\n",
       "Start Time of Year (hr)                                             9.7286e+07\n",
       "Start time (hr)                                                         319825\n",
       "Mains Temperature (deg F)                                           1.4147e+06\n",
       "Fraction Hot Water                                                     11618.9\n",
       "Hot Water Flow Rate (gpm)                                              10686.7\n",
       "Hot Water Volume (gal)                                                 13113.9\n",
       "dtype: object"
      ]
     },
     "execution_count": 49,
     "metadata": {},
     "output_type": "execute_result"
    }
   ],
   "source": [
    "from_convert_3.sum()"
   ]
  },
  {
   "cell_type": "code",
   "execution_count": null,
   "metadata": {},
   "outputs": [],
   "source": []
  }
 ],
 "metadata": {
  "kernelspec": {
   "display_name": "Python 3",
   "language": "python",
   "name": "python3"
  },
  "language_info": {
   "codemirror_mode": {
    "name": "ipython",
    "version": 3
   },
   "file_extension": ".py",
   "mimetype": "text/x-python",
   "name": "python",
   "nbconvert_exporter": "python",
   "pygments_lexer": "ipython3",
   "version": "3.7.3"
  }
 },
 "nbformat": 4,
 "nbformat_minor": 2
}
