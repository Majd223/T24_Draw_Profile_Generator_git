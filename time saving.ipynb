{
 "cells": [
  {
   "cell_type": "code",
   "execution_count": 1,
   "metadata": {},
   "outputs": [
    {
     "name": "stderr",
     "output_type": "stream",
     "text": [
      "/Users/nathanieliltis/anaconda3/lib/python3.7/site-packages/pandas/core/frame.py:6692: FutureWarning: Sorting because non-concatenation axis is not aligned. A future version\n",
      "of pandas will change to not sort by default.\n",
      "\n",
      "To accept the future behavior, pass 'sort=False'.\n",
      "\n",
      "To retain the current behavior and silence the warning, pass 'sort=True'.\n",
      "\n",
      "  sort=sort)\n"
     ]
    },
    {
     "name": "stdout",
     "output_type": "stream",
     "text": [
      "total = 2.8899269104003906, mixed = 0, hot = 0\n"
     ]
    }
   ],
   "source": [
    "%run T24_Draw_Profile_Generator.py"
   ]
  },
  {
   "cell_type": "code",
   "execution_count": 6,
   "metadata": {},
   "outputs": [],
   "source": [
    "To_Convert = \"Building=Multi_Climate=3_Water=Hot_Profile=3a_SDLM=Yes_CFA=600_Included=['F', 'S', 'D'].csv\""
   ]
  },
  {
   "cell_type": "code",
   "execution_count": 9,
   "metadata": {},
   "outputs": [],
   "source": [
    "All_Types = To_Convert.replace(\".csv\",\"\").split(sep = '_')\n",
    "Specifier_Dict = { each.split(sep = \"=\")[0] : each.split(sep = \"=\")[1] for each in All_Types} "
   ]
  },
  {
   "cell_type": "code",
   "execution_count": 14,
   "metadata": {},
   "outputs": [
    {
     "data": {
      "text/plain": [
       "'Multi'"
      ]
     },
     "execution_count": 14,
     "metadata": {},
     "output_type": "execute_result"
    }
   ],
   "source": [
    "Specifier_Dict['Building']"
   ]
  },
  {
   "cell_type": "code",
   "execution_count": 9,
   "metadata": {},
   "outputs": [
    {
     "data": {
      "text/plain": [
       "0"
      ]
     },
     "execution_count": 9,
     "metadata": {},
     "output_type": "execute_result"
    }
   ],
   "source": [
    "start_laggard_mixed"
   ]
  },
  {
   "cell_type": "code",
   "execution_count": 20,
   "metadata": {},
   "outputs": [
    {
     "ename": "NameError",
     "evalue": "name 'NumberBedrooms_Dwelling' is not defined",
     "output_type": "error",
     "traceback": [
      "\u001b[0;31m---------------------------------------------------------------------------\u001b[0m",
      "\u001b[0;31mNameError\u001b[0m                                 Traceback (most recent call last)",
      "\u001b[0;32m<ipython-input-20-9226f8caffb3>\u001b[0m in \u001b[0;36m<module>\u001b[0;34m\u001b[0m\n\u001b[0;32m----> 1\u001b[0;31m \u001b[0mProfile\u001b[0m \u001b[0;34m=\u001b[0m \u001b[0;34m'DHW'\u001b[0m \u001b[0;34m+\u001b[0m \u001b[0mstr\u001b[0m\u001b[0;34m(\u001b[0m\u001b[0mNumberBedrooms_Dwelling\u001b[0m\u001b[0;34m)\u001b[0m \u001b[0;34m+\u001b[0m \u001b[0;34m'BR'\u001b[0m \u001b[0;34m+\u001b[0m \u001b[0mstr\u001b[0m\u001b[0;34m(\u001b[0m\u001b[0mVariant\u001b[0m\u001b[0;34m)\u001b[0m\u001b[0;34m\u001b[0m\u001b[0;34m\u001b[0m\u001b[0m\n\u001b[0m",
      "\u001b[0;31mNameError\u001b[0m: name 'NumberBedrooms_Dwelling' is not defined"
     ]
    }
   ],
   "source": [
    "Profile = 'DHW' + str(0) + 'BR' + str('a')"
   ]
  },
  {
   "cell_type": "code",
   "execution_count": null,
   "metadata": {},
   "outputs": [],
   "source": []
  },
  {
   "cell_type": "code",
   "execution_count": null,
   "metadata": {},
   "outputs": [],
   "source": []
  },
  {
   "cell_type": "code",
   "execution_count": null,
   "metadata": {},
   "outputs": [],
   "source": []
  },
  {
   "cell_type": "code",
   "execution_count": null,
   "metadata": {},
   "outputs": [],
   "source": []
  },
  {
   "cell_type": "code",
   "execution_count": null,
   "metadata": {},
   "outputs": [],
   "source": []
  },
  {
   "cell_type": "code",
   "execution_count": 107,
   "metadata": {},
   "outputs": [
    {
     "data": {
      "text/plain": [
       "[0.006229813503616754,\n",
       " 0.029307984997352692,\n",
       " 0.2867553134375883,\n",
       " 0.040324859890133624,\n",
       " 0.28793796289325485,\n",
       " 0.061322210113581244,\n",
       " 0.28812185516447253]"
      ]
     },
     "execution_count": 107,
     "metadata": {},
     "output_type": "execute_result"
    }
   ],
   "source": [
    "times  = [point_2,point_3, point_4, point_5, point_6, point_7, end]\n",
    "fraction_times = [each / sum(times) for each in times]\n",
    "fraction_times"
   ]
  },
  {
   "cell_type": "code",
   "execution_count": 84,
   "metadata": {},
   "outputs": [],
   "source": [
    "Folder_WeatherData = Folder + os.sep + 'WeatherFiles' #This states the folder that CBECC weather data files are stored in\n",
    "start_text = 'CTZ0' if len(str(ClimateZone)) == 1 else 'CTZ'  #Identifying the correct file is done differently if the climate zone number is less than 10\n",
    "File_WeatherData = os.sep + start_text + str(ClimateZone) + 'S13b.CSW' #Create a string stating the location of the weather file. Note the 0 following CTZ in climate zones < 10\n",
    "Path_WeatherData = Folder_WeatherData + File_WeatherData #Combine Folder and File to create a path stating the location of the weather data\n",
    "\n",
    "WeatherData = pd.read_csv(Path_WeatherData, header = 26) #Read the weather data, ignoring the first 25 lines of header\n",
    "\n",
    "First_Hour = WeatherData[WeatherData[\"Hour\"] == 1]\n",
    "First_Hour = First_Hour.set_index([pd.Index(range(365))])\n",
    "T_Mains = 0.65 * First_Hour['T Ground'] + 0.35 * First_Hour['31-day Avg lag DB'] #Equation 10, ACM, Appendix B. Returns the mains water temperature as a function of the ground temper"
   ]
  },
  {
   "cell_type": "code",
   "execution_count": 118,
   "metadata": {},
   "outputs": [],
   "source": [
    "\n",
    "Daily_Profile['New Col'] = Daily_Profiles['Start Time of Year (hr)'] +4"
   ]
  },
  {
   "cell_type": "code",
   "execution_count": 110,
   "metadata": {},
   "outputs": [],
   "source": [
    "Daily_Profile.loc[:,'Mains Temperature (deg F)'] = T_Mains[i]"
   ]
  },
  {
   "cell_type": "code",
   "execution_count": 100,
   "metadata": {},
   "outputs": [
    {
     "name": "stderr",
     "output_type": "stream",
     "text": [
      "/Users/nathanieliltis/anaconda3/lib/python3.7/site-packages/ipykernel_launcher.py:1: SettingWithCopyWarning: \n",
      "A value is trying to be set on a copy of a slice from a DataFrame.\n",
      "Try using .loc[row_indexer,col_indexer] = value instead\n",
      "\n",
      "See the caveats in the documentation: http://pandas.pydata.org/pandas-docs/stable/indexing.html#indexing-view-versus-copy\n",
      "  \"\"\"Entry point for launching an IPython kernel.\n"
     ]
    }
   ],
   "source": [
    "Daily_Profile['Mains Temperature (deg F)'] = pd.Series([T_Mains.loc[1]]*len(Daily_Profile))\n"
   ]
  },
  {
   "cell_type": "code",
   "execution_count": 102,
   "metadata": {
    "scrolled": true
   },
   "outputs": [
    {
     "data": {
      "text/plain": [
       "0      54.0810\n",
       "1      54.1340\n",
       "2      54.0930\n",
       "3      54.0025\n",
       "4      53.9295\n",
       "5      53.8950\n",
       "6      53.8360\n",
       "7      53.7945\n",
       "8      53.7915\n",
       "9      53.7255\n",
       "10     53.6455\n",
       "11     53.6070\n",
       "12     53.5445\n",
       "13     53.4570\n",
       "14     53.3450\n",
       "15     53.3030\n",
       "16     53.2925\n",
       "17     53.2575\n",
       "18     53.2540\n",
       "19     53.2505\n",
       "20     53.3200\n",
       "21     53.2395\n",
       "22     53.1410\n",
       "23     53.1020\n",
       "24     53.1225\n",
       "25     53.1290\n",
       "26     53.0340\n",
       "27     53.0090\n",
       "28     53.0080\n",
       "29     52.9755\n",
       "        ...   \n",
       "335    56.8500\n",
       "336    56.6305\n",
       "337    56.4255\n",
       "338    56.2275\n",
       "339    56.1095\n",
       "340    55.9885\n",
       "341    55.9650\n",
       "342    55.9105\n",
       "343    55.8560\n",
       "344    55.7800\n",
       "345    55.6590\n",
       "346    55.5375\n",
       "347    55.4830\n",
       "348    55.4000\n",
       "349    55.3140\n",
       "350    55.1995\n",
       "351    55.0855\n",
       "352    54.9605\n",
       "353    54.8565\n",
       "354    54.6585\n",
       "355    54.5720\n",
       "356    54.5240\n",
       "357    54.4865\n",
       "358    54.4140\n",
       "359    54.2995\n",
       "360    54.2340\n",
       "361    54.1405\n",
       "362    54.0190\n",
       "363    53.9775\n",
       "364    54.0590\n",
       "Length: 365, dtype: float64"
      ]
     },
     "execution_count": 102,
     "metadata": {},
     "output_type": "execute_result"
    }
   ],
   "source": [
    "T_Mains"
   ]
  },
  {
   "cell_type": "code",
   "execution_count": 118,
   "metadata": {},
   "outputs": [
    {
     "data": {
      "text/plain": [
       "{}"
      ]
     },
     "execution_count": 118,
     "metadata": {},
     "output_type": "execute_result"
    }
   ],
   "source": [
    "Zones_Dict"
   ]
  },
  {
   "cell_type": "code",
   "execution_count": 8,
   "metadata": {},
   "outputs": [
    {
     "name": "stdout",
     "output_type": "stream",
     "text": [
      "Code block 'converting to climate zone 2 complete, it' took: 1004.91125 ms\n",
      "Code block 'converting to climate zone 3 complete, it' took: 991.91746 ms\n",
      "Code block 'converting to climate zone 4 complete, it' took: 1004.58572 ms\n",
      "Code block 'converting to climate zone 5 complete, it' took: 1025.18043 ms\n",
      "Code block 'converting to climate zone 6 complete, it' took: 1007.37258 ms\n",
      "Code block 'converting to climate zone 7 complete, it' took: 1004.74799 ms\n",
      "Code block 'converting to climate zone 8 complete, it' took: 1002.20354 ms\n",
      "Code block 'converting to climate zone 9 complete, it' took: 1015.61156 ms\n",
      "Code block 'converting to climate zone 10 complete, it' took: 967.43819 ms\n",
      "Code block 'converting to climate zone 11 complete, it' took: 971.70675 ms\n",
      "Code block 'converting to climate zone 12 complete, it' took: 1003.73620 ms\n",
      "Code block 'converting to climate zone 13 complete, it' took: 1009.61461 ms\n",
      "Code block 'converting to climate zone 14 complete, it' took: 1004.26496 ms\n",
      "Code block 'converting to climate zone 15 complete, it' took: 1023.63099 ms\n",
      "Code block 'converting to climate zone 16 complete, it' took: 1050.95498 ms\n",
      "time to run = 15.289607763290405\n"
     ]
    }
   ],
   "source": [
    "%run Convert_Profile_Climate_Zone.py"
   ]
  },
  {
   "cell_type": "code",
   "execution_count": 2,
   "metadata": {},
   "outputs": [
    {
     "name": "stderr",
     "output_type": "stream",
     "text": [
      "/Users/nathaniltis/.pyenv/versions/3.7.3/lib/python3.7/site-packages/pandas/core/frame.py:7138: FutureWarning: Sorting because non-concatenation axis is not aligned. A future version\n",
      "of pandas will change to not sort by default.\n",
      "\n",
      "To accept the future behavior, pass 'sort=False'.\n",
      "\n",
      "To retain the current behavior and silence the warning, pass 'sort=True'.\n",
      "\n",
      "  sort=sort,\n"
     ]
    },
    {
     "name": "stdout",
     "output_type": "stream",
     "text": [
      "total = 2.3885059356689453, mixed = 0, hot = 0\n"
     ]
    }
   ],
   "source": [
    "%run T24_Draw_Profile_Generator.py"
   ]
  },
  {
   "cell_type": "code",
   "execution_count": 84,
   "metadata": {},
   "outputs": [
    {
     "data": {
      "text/plain": [
       "748"
      ]
     },
     "execution_count": 84,
     "metadata": {},
     "output_type": "execute_result"
    }
   ],
   "source": [
    "len(Data)"
   ]
  },
  {
   "cell_type": "code",
   "execution_count": 119,
   "metadata": {},
   "outputs": [
    {
     "data": {
      "text/html": [
       "<div>\n",
       "<style scoped>\n",
       "    .dataframe tbody tr th:only-of-type {\n",
       "        vertical-align: middle;\n",
       "    }\n",
       "\n",
       "    .dataframe tbody tr th {\n",
       "        vertical-align: top;\n",
       "    }\n",
       "\n",
       "    .dataframe thead th {\n",
       "        text-align: right;\n",
       "    }\n",
       "</style>\n",
       "<table border=\"1\" class=\"dataframe\">\n",
       "  <thead>\n",
       "    <tr style=\"text-align: right;\">\n",
       "      <th></th>\n",
       "      <th>Hour</th>\n",
       "      <th>31-day Avg lag DB</th>\n",
       "      <th>T Ground</th>\n",
       "    </tr>\n",
       "  </thead>\n",
       "  <tbody>\n",
       "    <tr>\n",
       "      <th>0</th>\n",
       "      <td>1</td>\n",
       "      <td>40.89</td>\n",
       "      <td>47.02</td>\n",
       "    </tr>\n",
       "    <tr>\n",
       "      <th>1</th>\n",
       "      <td>1</td>\n",
       "      <td>40.80</td>\n",
       "      <td>46.88</td>\n",
       "    </tr>\n",
       "    <tr>\n",
       "      <th>2</th>\n",
       "      <td>1</td>\n",
       "      <td>40.65</td>\n",
       "      <td>46.74</td>\n",
       "    </tr>\n",
       "    <tr>\n",
       "      <th>3</th>\n",
       "      <td>1</td>\n",
       "      <td>40.07</td>\n",
       "      <td>46.59</td>\n",
       "    </tr>\n",
       "    <tr>\n",
       "      <th>4</th>\n",
       "      <td>1</td>\n",
       "      <td>39.70</td>\n",
       "      <td>46.45</td>\n",
       "    </tr>\n",
       "    <tr>\n",
       "      <th>5</th>\n",
       "      <td>1</td>\n",
       "      <td>39.78</td>\n",
       "      <td>46.32</td>\n",
       "    </tr>\n",
       "    <tr>\n",
       "      <th>6</th>\n",
       "      <td>1</td>\n",
       "      <td>39.99</td>\n",
       "      <td>46.18</td>\n",
       "    </tr>\n",
       "    <tr>\n",
       "      <th>7</th>\n",
       "      <td>1</td>\n",
       "      <td>40.06</td>\n",
       "      <td>46.04</td>\n",
       "    </tr>\n",
       "    <tr>\n",
       "      <th>8</th>\n",
       "      <td>1</td>\n",
       "      <td>40.26</td>\n",
       "      <td>45.91</td>\n",
       "    </tr>\n",
       "    <tr>\n",
       "      <th>9</th>\n",
       "      <td>1</td>\n",
       "      <td>40.30</td>\n",
       "      <td>45.78</td>\n",
       "    </tr>\n",
       "    <tr>\n",
       "      <th>10</th>\n",
       "      <td>1</td>\n",
       "      <td>40.04</td>\n",
       "      <td>45.65</td>\n",
       "    </tr>\n",
       "    <tr>\n",
       "      <th>11</th>\n",
       "      <td>1</td>\n",
       "      <td>39.81</td>\n",
       "      <td>45.52</td>\n",
       "    </tr>\n",
       "    <tr>\n",
       "      <th>12</th>\n",
       "      <td>1</td>\n",
       "      <td>39.61</td>\n",
       "      <td>45.39</td>\n",
       "    </tr>\n",
       "    <tr>\n",
       "      <th>13</th>\n",
       "      <td>1</td>\n",
       "      <td>39.67</td>\n",
       "      <td>45.27</td>\n",
       "    </tr>\n",
       "    <tr>\n",
       "      <th>14</th>\n",
       "      <td>1</td>\n",
       "      <td>39.58</td>\n",
       "      <td>45.14</td>\n",
       "    </tr>\n",
       "    <tr>\n",
       "      <th>15</th>\n",
       "      <td>1</td>\n",
       "      <td>39.36</td>\n",
       "      <td>45.02</td>\n",
       "    </tr>\n",
       "    <tr>\n",
       "      <th>16</th>\n",
       "      <td>1</td>\n",
       "      <td>39.22</td>\n",
       "      <td>44.90</td>\n",
       "    </tr>\n",
       "    <tr>\n",
       "      <th>17</th>\n",
       "      <td>1</td>\n",
       "      <td>38.99</td>\n",
       "      <td>44.79</td>\n",
       "    </tr>\n",
       "    <tr>\n",
       "      <th>18</th>\n",
       "      <td>1</td>\n",
       "      <td>38.54</td>\n",
       "      <td>44.67</td>\n",
       "    </tr>\n",
       "    <tr>\n",
       "      <th>19</th>\n",
       "      <td>1</td>\n",
       "      <td>38.08</td>\n",
       "      <td>44.56</td>\n",
       "    </tr>\n",
       "    <tr>\n",
       "      <th>20</th>\n",
       "      <td>1</td>\n",
       "      <td>37.69</td>\n",
       "      <td>44.45</td>\n",
       "    </tr>\n",
       "    <tr>\n",
       "      <th>21</th>\n",
       "      <td>1</td>\n",
       "      <td>37.56</td>\n",
       "      <td>44.34</td>\n",
       "    </tr>\n",
       "    <tr>\n",
       "      <th>22</th>\n",
       "      <td>1</td>\n",
       "      <td>37.75</td>\n",
       "      <td>44.23</td>\n",
       "    </tr>\n",
       "    <tr>\n",
       "      <th>23</th>\n",
       "      <td>1</td>\n",
       "      <td>37.81</td>\n",
       "      <td>44.12</td>\n",
       "    </tr>\n",
       "    <tr>\n",
       "      <th>24</th>\n",
       "      <td>1</td>\n",
       "      <td>37.40</td>\n",
       "      <td>44.02</td>\n",
       "    </tr>\n",
       "    <tr>\n",
       "      <th>25</th>\n",
       "      <td>1</td>\n",
       "      <td>37.13</td>\n",
       "      <td>43.92</td>\n",
       "    </tr>\n",
       "    <tr>\n",
       "      <th>26</th>\n",
       "      <td>1</td>\n",
       "      <td>37.01</td>\n",
       "      <td>43.82</td>\n",
       "    </tr>\n",
       "    <tr>\n",
       "      <th>27</th>\n",
       "      <td>1</td>\n",
       "      <td>36.81</td>\n",
       "      <td>43.73</td>\n",
       "    </tr>\n",
       "    <tr>\n",
       "      <th>28</th>\n",
       "      <td>1</td>\n",
       "      <td>36.84</td>\n",
       "      <td>43.63</td>\n",
       "    </tr>\n",
       "    <tr>\n",
       "      <th>29</th>\n",
       "      <td>1</td>\n",
       "      <td>37.30</td>\n",
       "      <td>43.54</td>\n",
       "    </tr>\n",
       "    <tr>\n",
       "      <th>...</th>\n",
       "      <td>...</td>\n",
       "      <td>...</td>\n",
       "      <td>...</td>\n",
       "    </tr>\n",
       "    <tr>\n",
       "      <th>335</th>\n",
       "      <td>1</td>\n",
       "      <td>41.00</td>\n",
       "      <td>51.77</td>\n",
       "    </tr>\n",
       "    <tr>\n",
       "      <th>336</th>\n",
       "      <td>1</td>\n",
       "      <td>40.43</td>\n",
       "      <td>51.60</td>\n",
       "    </tr>\n",
       "    <tr>\n",
       "      <th>337</th>\n",
       "      <td>1</td>\n",
       "      <td>40.16</td>\n",
       "      <td>51.44</td>\n",
       "    </tr>\n",
       "    <tr>\n",
       "      <th>338</th>\n",
       "      <td>1</td>\n",
       "      <td>40.13</td>\n",
       "      <td>51.27</td>\n",
       "    </tr>\n",
       "    <tr>\n",
       "      <th>339</th>\n",
       "      <td>1</td>\n",
       "      <td>40.13</td>\n",
       "      <td>51.11</td>\n",
       "    </tr>\n",
       "    <tr>\n",
       "      <th>340</th>\n",
       "      <td>1</td>\n",
       "      <td>39.58</td>\n",
       "      <td>50.94</td>\n",
       "    </tr>\n",
       "    <tr>\n",
       "      <th>341</th>\n",
       "      <td>1</td>\n",
       "      <td>38.80</td>\n",
       "      <td>50.78</td>\n",
       "    </tr>\n",
       "    <tr>\n",
       "      <th>342</th>\n",
       "      <td>1</td>\n",
       "      <td>38.19</td>\n",
       "      <td>50.62</td>\n",
       "    </tr>\n",
       "    <tr>\n",
       "      <th>343</th>\n",
       "      <td>1</td>\n",
       "      <td>38.26</td>\n",
       "      <td>50.45</td>\n",
       "    </tr>\n",
       "    <tr>\n",
       "      <th>344</th>\n",
       "      <td>1</td>\n",
       "      <td>38.69</td>\n",
       "      <td>50.29</td>\n",
       "    </tr>\n",
       "    <tr>\n",
       "      <th>345</th>\n",
       "      <td>1</td>\n",
       "      <td>39.25</td>\n",
       "      <td>50.13</td>\n",
       "    </tr>\n",
       "    <tr>\n",
       "      <th>346</th>\n",
       "      <td>1</td>\n",
       "      <td>39.81</td>\n",
       "      <td>49.96</td>\n",
       "    </tr>\n",
       "    <tr>\n",
       "      <th>347</th>\n",
       "      <td>1</td>\n",
       "      <td>39.91</td>\n",
       "      <td>49.80</td>\n",
       "    </tr>\n",
       "    <tr>\n",
       "      <th>348</th>\n",
       "      <td>1</td>\n",
       "      <td>40.04</td>\n",
       "      <td>49.64</td>\n",
       "    </tr>\n",
       "    <tr>\n",
       "      <th>349</th>\n",
       "      <td>1</td>\n",
       "      <td>40.22</td>\n",
       "      <td>49.48</td>\n",
       "    </tr>\n",
       "    <tr>\n",
       "      <th>350</th>\n",
       "      <td>1</td>\n",
       "      <td>40.30</td>\n",
       "      <td>49.32</td>\n",
       "    </tr>\n",
       "    <tr>\n",
       "      <th>351</th>\n",
       "      <td>1</td>\n",
       "      <td>40.47</td>\n",
       "      <td>49.16</td>\n",
       "    </tr>\n",
       "    <tr>\n",
       "      <th>352</th>\n",
       "      <td>1</td>\n",
       "      <td>40.65</td>\n",
       "      <td>49.00</td>\n",
       "    </tr>\n",
       "    <tr>\n",
       "      <th>353</th>\n",
       "      <td>1</td>\n",
       "      <td>40.82</td>\n",
       "      <td>48.84</td>\n",
       "    </tr>\n",
       "    <tr>\n",
       "      <th>354</th>\n",
       "      <td>1</td>\n",
       "      <td>41.06</td>\n",
       "      <td>48.69</td>\n",
       "    </tr>\n",
       "    <tr>\n",
       "      <th>355</th>\n",
       "      <td>1</td>\n",
       "      <td>41.19</td>\n",
       "      <td>48.53</td>\n",
       "    </tr>\n",
       "    <tr>\n",
       "      <th>356</th>\n",
       "      <td>1</td>\n",
       "      <td>41.40</td>\n",
       "      <td>48.37</td>\n",
       "    </tr>\n",
       "    <tr>\n",
       "      <th>357</th>\n",
       "      <td>1</td>\n",
       "      <td>41.27</td>\n",
       "      <td>48.22</td>\n",
       "    </tr>\n",
       "    <tr>\n",
       "      <th>358</th>\n",
       "      <td>1</td>\n",
       "      <td>41.34</td>\n",
       "      <td>48.07</td>\n",
       "    </tr>\n",
       "    <tr>\n",
       "      <th>359</th>\n",
       "      <td>1</td>\n",
       "      <td>41.08</td>\n",
       "      <td>47.91</td>\n",
       "    </tr>\n",
       "    <tr>\n",
       "      <th>360</th>\n",
       "      <td>1</td>\n",
       "      <td>40.88</td>\n",
       "      <td>47.76</td>\n",
       "    </tr>\n",
       "    <tr>\n",
       "      <th>361</th>\n",
       "      <td>1</td>\n",
       "      <td>40.84</td>\n",
       "      <td>47.61</td>\n",
       "    </tr>\n",
       "    <tr>\n",
       "      <th>362</th>\n",
       "      <td>1</td>\n",
       "      <td>40.96</td>\n",
       "      <td>47.46</td>\n",
       "    </tr>\n",
       "    <tr>\n",
       "      <th>363</th>\n",
       "      <td>1</td>\n",
       "      <td>41.12</td>\n",
       "      <td>47.31</td>\n",
       "    </tr>\n",
       "    <tr>\n",
       "      <th>364</th>\n",
       "      <td>1</td>\n",
       "      <td>41.05</td>\n",
       "      <td>47.17</td>\n",
       "    </tr>\n",
       "  </tbody>\n",
       "</table>\n",
       "<p>365 rows × 3 columns</p>\n",
       "</div>"
      ],
      "text/plain": [
       "     Hour  31-day Avg lag DB  T Ground\n",
       "0       1              40.89     47.02\n",
       "1       1              40.80     46.88\n",
       "2       1              40.65     46.74\n",
       "3       1              40.07     46.59\n",
       "4       1              39.70     46.45\n",
       "5       1              39.78     46.32\n",
       "6       1              39.99     46.18\n",
       "7       1              40.06     46.04\n",
       "8       1              40.26     45.91\n",
       "9       1              40.30     45.78\n",
       "10      1              40.04     45.65\n",
       "11      1              39.81     45.52\n",
       "12      1              39.61     45.39\n",
       "13      1              39.67     45.27\n",
       "14      1              39.58     45.14\n",
       "15      1              39.36     45.02\n",
       "16      1              39.22     44.90\n",
       "17      1              38.99     44.79\n",
       "18      1              38.54     44.67\n",
       "19      1              38.08     44.56\n",
       "20      1              37.69     44.45\n",
       "21      1              37.56     44.34\n",
       "22      1              37.75     44.23\n",
       "23      1              37.81     44.12\n",
       "24      1              37.40     44.02\n",
       "25      1              37.13     43.92\n",
       "26      1              37.01     43.82\n",
       "27      1              36.81     43.73\n",
       "28      1              36.84     43.63\n",
       "29      1              37.30     43.54\n",
       "..    ...                ...       ...\n",
       "335     1              41.00     51.77\n",
       "336     1              40.43     51.60\n",
       "337     1              40.16     51.44\n",
       "338     1              40.13     51.27\n",
       "339     1              40.13     51.11\n",
       "340     1              39.58     50.94\n",
       "341     1              38.80     50.78\n",
       "342     1              38.19     50.62\n",
       "343     1              38.26     50.45\n",
       "344     1              38.69     50.29\n",
       "345     1              39.25     50.13\n",
       "346     1              39.81     49.96\n",
       "347     1              39.91     49.80\n",
       "348     1              40.04     49.64\n",
       "349     1              40.22     49.48\n",
       "350     1              40.30     49.32\n",
       "351     1              40.47     49.16\n",
       "352     1              40.65     49.00\n",
       "353     1              40.82     48.84\n",
       "354     1              41.06     48.69\n",
       "355     1              41.19     48.53\n",
       "356     1              41.40     48.37\n",
       "357     1              41.27     48.22\n",
       "358     1              41.34     48.07\n",
       "359     1              41.08     47.91\n",
       "360     1              40.88     47.76\n",
       "361     1              40.84     47.61\n",
       "362     1              40.96     47.46\n",
       "363     1              41.12     47.31\n",
       "364     1              41.05     47.17\n",
       "\n",
       "[365 rows x 3 columns]"
      ]
     },
     "execution_count": 119,
     "metadata": {},
     "output_type": "execute_result"
    }
   ],
   "source": []
  },
  {
   "cell_type": "code",
   "execution_count": null,
   "metadata": {},
   "outputs": [],
   "source": []
  }
 ],
 "metadata": {
  "kernelspec": {
   "display_name": "Python 3",
   "language": "python",
   "name": "python3"
  },
  "language_info": {
   "codemirror_mode": {
    "name": "ipython",
    "version": 3
   },
   "file_extension": ".py",
   "mimetype": "text/x-python",
   "name": "python",
   "nbconvert_exporter": "python",
   "pygments_lexer": "ipython3",
   "version": "3.7.3"
  }
 },
 "nbformat": 4,
 "nbformat_minor": 2
}
