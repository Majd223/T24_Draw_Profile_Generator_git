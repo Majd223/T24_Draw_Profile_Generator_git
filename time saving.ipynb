{
 "cells": [
  {
   "cell_type": "code",
   "execution_count": 1,
   "metadata": {},
   "outputs": [
    {
     "name": "stderr",
     "output_type": "stream",
     "text": [
      "/Users/nathanieliltis/anaconda3/lib/python3.7/site-packages/pandas/core/frame.py:6692: FutureWarning: Sorting because non-concatenation axis is not aligned. A future version\n",
      "of pandas will change to not sort by default.\n",
      "\n",
      "To accept the future behavior, pass 'sort=False'.\n",
      "\n",
      "To retain the current behavior and silence the warning, pass 'sort=True'.\n",
      "\n",
      "  sort=sort)\n"
     ]
    },
    {
     "name": "stdout",
     "output_type": "stream",
     "text": [
      "total = 2.8899269104003906, mixed = 0, hot = 0\n"
     ]
    }
   ],
   "source": [
    "%run T24_Draw_Profile_Generator.py"
   ]
  },
  {
   "cell_type": "code",
   "execution_count": 6,
   "metadata": {},
   "outputs": [],
   "source": [
    "To_Convert = \"Building=Multi_Climate=3_Water=Hot_Profile=3a_SDLM=Yes_CFA=600_Included=['F', 'S', 'D'].csv\""
   ]
  },
  {
   "cell_type": "code",
   "execution_count": 9,
   "metadata": {},
   "outputs": [],
   "source": [
    "All_Types = To_Convert.replace(\".csv\",\"\").split(sep = '_')\n",
    "Specifier_Dict = { each.split(sep = \"=\")[0] : each.split(sep = \"=\")[1] for each in All_Types} "
   ]
  },
  {
   "cell_type": "code",
   "execution_count": 14,
   "metadata": {},
   "outputs": [
    {
     "data": {
      "text/plain": [
       "'Multi'"
      ]
     },
     "execution_count": 14,
     "metadata": {},
     "output_type": "execute_result"
    }
   ],
   "source": [
    "Specifier_Dict['Building']"
   ]
  },
  {
   "cell_type": "code",
   "execution_count": 9,
   "metadata": {},
   "outputs": [
    {
     "data": {
      "text/plain": [
       "0"
      ]
     },
     "execution_count": 9,
     "metadata": {},
     "output_type": "execute_result"
    }
   ],
   "source": [
    "start_laggard_mixed"
   ]
  },
  {
   "cell_type": "code",
   "execution_count": 20,
   "metadata": {},
   "outputs": [
    {
     "ename": "NameError",
     "evalue": "name 'NumberBedrooms_Dwelling' is not defined",
     "output_type": "error",
     "traceback": [
      "\u001b[0;31m---------------------------------------------------------------------------\u001b[0m",
      "\u001b[0;31mNameError\u001b[0m                                 Traceback (most recent call last)",
      "\u001b[0;32m<ipython-input-20-9226f8caffb3>\u001b[0m in \u001b[0;36m<module>\u001b[0;34m\u001b[0m\n\u001b[0;32m----> 1\u001b[0;31m \u001b[0mProfile\u001b[0m \u001b[0;34m=\u001b[0m \u001b[0;34m'DHW'\u001b[0m \u001b[0;34m+\u001b[0m \u001b[0mstr\u001b[0m\u001b[0;34m(\u001b[0m\u001b[0mNumberBedrooms_Dwelling\u001b[0m\u001b[0;34m)\u001b[0m \u001b[0;34m+\u001b[0m \u001b[0;34m'BR'\u001b[0m \u001b[0;34m+\u001b[0m \u001b[0mstr\u001b[0m\u001b[0;34m(\u001b[0m\u001b[0mVariant\u001b[0m\u001b[0;34m)\u001b[0m\u001b[0;34m\u001b[0m\u001b[0;34m\u001b[0m\u001b[0m\n\u001b[0m",
      "\u001b[0;31mNameError\u001b[0m: name 'NumberBedrooms_Dwelling' is not defined"
     ]
    }
   ],
   "source": [
    "Profile = 'DHW' + str(0) + 'BR' + str('a')"
   ]
  },
  {
   "cell_type": "code",
   "execution_count": null,
   "metadata": {},
   "outputs": [],
   "source": []
  },
  {
   "cell_type": "code",
   "execution_count": null,
   "metadata": {},
   "outputs": [],
   "source": []
  },
  {
   "cell_type": "code",
   "execution_count": null,
   "metadata": {},
   "outputs": [],
   "source": []
  },
  {
   "cell_type": "code",
   "execution_count": null,
   "metadata": {},
   "outputs": [],
   "source": []
  },
  {
   "cell_type": "code",
   "execution_count": null,
   "metadata": {},
   "outputs": [],
   "source": []
  },
  {
   "cell_type": "code",
   "execution_count": 107,
   "metadata": {},
   "outputs": [
    {
     "data": {
      "text/plain": [
       "[0.006229813503616754,\n",
       " 0.029307984997352692,\n",
       " 0.2867553134375883,\n",
       " 0.040324859890133624,\n",
       " 0.28793796289325485,\n",
       " 0.061322210113581244,\n",
       " 0.28812185516447253]"
      ]
     },
     "execution_count": 107,
     "metadata": {},
     "output_type": "execute_result"
    }
   ],
   "source": [
    "times  = [point_2,point_3, point_4, point_5, point_6, point_7, end]\n",
    "fraction_times = [each / sum(times) for each in times]\n",
    "fraction_times"
   ]
  },
  {
   "cell_type": "code",
   "execution_count": 84,
   "metadata": {},
   "outputs": [],
   "source": [
    "Folder_WeatherData = Folder + os.sep + 'WeatherFiles' #This states the folder that CBECC weather data files are stored in\n",
    "start_text = 'CTZ0' if len(str(ClimateZone)) == 1 else 'CTZ'  #Identifying the correct file is done differently if the climate zone number is less than 10\n",
    "File_WeatherData = os.sep + start_text + str(ClimateZone) + 'S13b.CSW' #Create a string stating the location of the weather file. Note the 0 following CTZ in climate zones < 10\n",
    "Path_WeatherData = Folder_WeatherData + File_WeatherData #Combine Folder and File to create a path stating the location of the weather data\n",
    "\n",
    "WeatherData = pd.read_csv(Path_WeatherData, header = 26) #Read the weather data, ignoring the first 25 lines of header\n",
    "\n",
    "First_Hour = WeatherData[WeatherData[\"Hour\"] == 1]\n",
    "First_Hour = First_Hour.set_index([pd.Index(range(365))])\n",
    "T_Mains = 0.65 * First_Hour['T Ground'] + 0.35 * First_Hour['31-day Avg lag DB'] #Equation 10, ACM, Appendix B. Returns the mains water temperature as a function of the ground temper"
   ]
  },
  {
   "cell_type": "code",
   "execution_count": 118,
   "metadata": {},
   "outputs": [],
   "source": [
    "\n",
    "Daily_Profile['New Col'] = Daily_Profiles['Start Time of Year (hr)'] +4"
   ]
  },
  {
   "cell_type": "code",
   "execution_count": 110,
   "metadata": {},
   "outputs": [],
   "source": [
    "Daily_Profile.loc[:,'Mains Temperature (deg F)'] = T_Mains[i]"
   ]
  },
  {
   "cell_type": "code",
   "execution_count": 100,
   "metadata": {},
   "outputs": [
    {
     "name": "stderr",
     "output_type": "stream",
     "text": [
      "/Users/nathanieliltis/anaconda3/lib/python3.7/site-packages/ipykernel_launcher.py:1: SettingWithCopyWarning: \n",
      "A value is trying to be set on a copy of a slice from a DataFrame.\n",
      "Try using .loc[row_indexer,col_indexer] = value instead\n",
      "\n",
      "See the caveats in the documentation: http://pandas.pydata.org/pandas-docs/stable/indexing.html#indexing-view-versus-copy\n",
      "  \"\"\"Entry point for launching an IPython kernel.\n"
     ]
    }
   ],
   "source": [
    "Daily_Profile['Mains Temperature (deg F)'] = pd.Series([T_Mains.loc[1]]*len(Daily_Profile))\n"
   ]
  },
  {
   "cell_type": "code",
   "execution_count": 102,
   "metadata": {},
   "outputs": [
    {
     "data": {
      "text/plain": [
       "0      54.0810\n",
       "1      54.1340\n",
       "2      54.0930\n",
       "3      54.0025\n",
       "4      53.9295\n",
       "5      53.8950\n",
       "6      53.8360\n",
       "7      53.7945\n",
       "8      53.7915\n",
       "9      53.7255\n",
       "10     53.6455\n",
       "11     53.6070\n",
       "12     53.5445\n",
       "13     53.4570\n",
       "14     53.3450\n",
       "15     53.3030\n",
       "16     53.2925\n",
       "17     53.2575\n",
       "18     53.2540\n",
       "19     53.2505\n",
       "20     53.3200\n",
       "21     53.2395\n",
       "22     53.1410\n",
       "23     53.1020\n",
       "24     53.1225\n",
       "25     53.1290\n",
       "26     53.0340\n",
       "27     53.0090\n",
       "28     53.0080\n",
       "29     52.9755\n",
       "        ...   \n",
       "335    56.8500\n",
       "336    56.6305\n",
       "337    56.4255\n",
       "338    56.2275\n",
       "339    56.1095\n",
       "340    55.9885\n",
       "341    55.9650\n",
       "342    55.9105\n",
       "343    55.8560\n",
       "344    55.7800\n",
       "345    55.6590\n",
       "346    55.5375\n",
       "347    55.4830\n",
       "348    55.4000\n",
       "349    55.3140\n",
       "350    55.1995\n",
       "351    55.0855\n",
       "352    54.9605\n",
       "353    54.8565\n",
       "354    54.6585\n",
       "355    54.5720\n",
       "356    54.5240\n",
       "357    54.4865\n",
       "358    54.4140\n",
       "359    54.2995\n",
       "360    54.2340\n",
       "361    54.1405\n",
       "362    54.0190\n",
       "363    53.9775\n",
       "364    54.0590\n",
       "Length: 365, dtype: float64"
      ]
     },
     "execution_count": 102,
     "metadata": {},
     "output_type": "execute_result"
    }
   ],
   "source": [
    "T_Mains"
   ]
  },
  {
   "cell_type": "code",
   "execution_count": 118,
   "metadata": {},
   "outputs": [
    {
     "data": {
      "text/plain": [
       "{}"
      ]
     },
     "execution_count": 118,
     "metadata": {},
     "output_type": "execute_result"
    }
   ],
   "source": [
    "Zones_Dict"
   ]
  },
  {
   "cell_type": "code",
   "execution_count": 117,
   "metadata": {},
   "outputs": [
    {
     "name": "stdout",
     "output_type": "stream",
     "text": [
      "Code block 'import csv weather data' took: 27.87621 ms\n",
      "Code block 'import csv weather data' took: 15.49147 ms\n",
      "Code block 'import csv weather data' took: 10.77693 ms\n",
      "Code block 'import csv weather data' took: 10.63063 ms\n",
      "Code block 'import csv weather data' took: 10.31317 ms\n",
      "Code block 'import csv weather data' took: 9.91119 ms\n",
      "Code block 'import csv weather data' took: 10.31412 ms\n",
      "Code block 'import csv weather data' took: 9.94425 ms\n",
      "Code block 'import csv weather data' took: 10.02967 ms\n",
      "Code block 'import csv weather data' took: 9.96898 ms\n",
      "Code block 'import csv weather data' took: 11.03917 ms\n",
      "Code block 'import csv weather data' took: 10.08823 ms\n",
      "Code block 'import csv weather data' took: 10.14090 ms\n",
      "Code block 'import csv weather data' took: 10.12178 ms\n",
      "Code block 'import csv weather data' took: 10.05451 ms\n",
      "Code block 'import csv weather data' took: 10.43248 ms\n",
      "Code block 'all weather data work' took: 216.58274 ms\n",
      "Code block 'deleting data from previous' took: 1.32974 ms\n",
      "Code block 'swap climate data (vanilla .apply)' took: 16.31218 ms\n",
      "Code block 'manipulate weather dataframe' took: 7.43810 ms\n",
      "Code block 'csv data to file' took: 13.24584 ms\n",
      "Code block 'deleting data from previous' took: 1.29743 ms\n",
      "Code block 'swap climate data (vanilla .apply)' took: 126.37494 ms\n",
      "Code block 'manipulate weather dataframe' took: 10.86828 ms\n",
      "Code block 'csv data to file' took: 14.37471 ms\n",
      "Code block 'deleting data from previous' took: 4.30526 ms\n",
      "Code block 'swap climate data (vanilla .apply)' took: 139.01080 ms\n",
      "Code block 'manipulate weather dataframe' took: 26.65895 ms\n",
      "Code block 'csv data to file' took: 17.96232 ms\n",
      "Code block 'deleting data from previous' took: 1.99785 ms\n",
      "Code block 'swap climate data (vanilla .apply)' took: 150.05023 ms\n",
      "Code block 'manipulate weather dataframe' took: 24.36886 ms\n",
      "Code block 'csv data to file' took: 24.49399 ms\n",
      "Code block 'deleting data from previous' took: 2.28402 ms\n",
      "Code block 'swap climate data (vanilla .apply)' took: 375.50831 ms\n",
      "Code block 'manipulate weather dataframe' took: 13.13594 ms\n",
      "Code block 'csv data to file' took: 21.56829 ms\n",
      "Code block 'deleting data from previous' took: 2.04294 ms\n",
      "Code block 'swap climate data (vanilla .apply)' took: 159.78159 ms\n",
      "Code block 'manipulate weather dataframe' took: 16.82964 ms\n",
      "Code block 'csv data to file' took: 16.40041 ms\n",
      "Code block 'deleting data from previous' took: 1.72798 ms\n",
      "Code block 'swap climate data (vanilla .apply)' took: 198.40278 ms\n",
      "Code block 'manipulate weather dataframe' took: 17.71985 ms\n",
      "Code block 'csv data to file' took: 13.54948 ms\n",
      "Code block 'deleting data from previous' took: 1.02059 ms\n",
      "Code block 'swap climate data (vanilla .apply)' took: 155.36307 ms\n",
      "Code block 'manipulate weather dataframe' took: 10.22729 ms\n",
      "Code block 'csv data to file' took: 15.61645 ms\n",
      "Code block 'deleting data from previous' took: 6.97823 ms\n",
      "Code block 'swap climate data (vanilla .apply)' took: 194.67762 ms\n",
      "Code block 'manipulate weather dataframe' took: 31.41085 ms\n",
      "Code block 'csv data to file' took: 35.12737 ms\n",
      "Code block 'deleting data from previous' took: 1.79645 ms\n",
      "Code block 'swap climate data (vanilla .apply)' took: 149.58993 ms\n",
      "Code block 'manipulate weather dataframe' took: 18.00152 ms\n",
      "Code block 'csv data to file' took: 19.53253 ms\n",
      "Code block 'deleting data from previous' took: 16.40642 ms\n",
      "Code block 'swap climate data (vanilla .apply)' took: 125.62633 ms\n",
      "Code block 'manipulate weather dataframe' took: 9.78939 ms\n",
      "Code block 'csv data to file' took: 16.03234 ms\n",
      "Code block 'deleting data from previous' took: 1.54676 ms\n",
      "Code block 'swap climate data (vanilla .apply)' took: 136.83844 ms\n",
      "Code block 'manipulate weather dataframe' took: 14.23290 ms\n",
      "Code block 'csv data to file' took: 65.18057 ms\n",
      "Code block 'deleting data from previous' took: 7.13161 ms\n",
      "Code block 'swap climate data (vanilla .apply)' took: 177.84851 ms\n",
      "Code block 'manipulate weather dataframe' took: 16.43445 ms\n",
      "Code block 'csv data to file' took: 10.96681 ms\n",
      "Code block 'deleting data from previous' took: 1.48206 ms\n",
      "Code block 'swap climate data (vanilla .apply)' took: 128.91042 ms\n",
      "Code block 'manipulate weather dataframe' took: 26.92202 ms\n",
      "Code block 'csv data to file' took: 11.18612 ms\n",
      "Code block 'deleting data from previous' took: 1.05748 ms\n",
      "Code block 'swap climate data (vanilla .apply)' took: 147.83275 ms\n",
      "Code block 'manipulate weather dataframe' took: 10.06853 ms\n",
      "Code block 'csv data to file' took: 9.61387 ms\n",
      "Code block 'deleting data from previous' took: 1.48448 ms\n",
      "Code block 'swap climate data (vanilla .apply)' took: 152.49608 ms\n",
      "Code block 'manipulate weather dataframe' took: 11.68060 ms\n",
      "Code block 'csv data to file' took: 20.01267 ms\n",
      "time to run = 3.455932855606079\n"
     ]
    }
   ],
   "source": [
    "%run Convert_Profile_Climate_Zone.py"
   ]
  },
  {
   "cell_type": "code",
   "execution_count": 87,
   "metadata": {},
   "outputs": [
    {
     "name": "stderr",
     "output_type": "stream",
     "text": [
      "/Users/nathanieliltis/anaconda3/lib/python3.7/site-packages/pandas/core/frame.py:6692: FutureWarning: Sorting because non-concatenation axis is not aligned. A future version\n",
      "of pandas will change to not sort by default.\n",
      "\n",
      "To accept the future behavior, pass 'sort=False'.\n",
      "\n",
      "To retain the current behavior and silence the warning, pass 'sort=True'.\n",
      "\n",
      "  sort=sort)\n"
     ]
    },
    {
     "name": "stdout",
     "output_type": "stream",
     "text": [
      "total = 2.74454402923584, mixed = 0, hot = 0\n"
     ]
    }
   ],
   "source": [
    "%run T24_Draw_Profile_Generator.py"
   ]
  },
  {
   "cell_type": "code",
   "execution_count": 84,
   "metadata": {},
   "outputs": [
    {
     "data": {
      "text/plain": [
       "748"
      ]
     },
     "execution_count": 84,
     "metadata": {},
     "output_type": "execute_result"
    }
   ],
   "source": [
    "len(Data)"
   ]
  },
  {
   "cell_type": "code",
   "execution_count": 33,
   "metadata": {},
   "outputs": [
    {
     "data": {
      "text/html": [
       "<div>\n",
       "<style scoped>\n",
       "    .dataframe tbody tr th:only-of-type {\n",
       "        vertical-align: middle;\n",
       "    }\n",
       "\n",
       "    .dataframe tbody tr th {\n",
       "        vertical-align: top;\n",
       "    }\n",
       "\n",
       "    .dataframe thead th {\n",
       "        text-align: right;\n",
       "    }\n",
       "</style>\n",
       "<table border=\"1\" class=\"dataframe\">\n",
       "  <thead>\n",
       "    <tr style=\"text-align: right;\">\n",
       "      <th></th>\n",
       "      <th>Month</th>\n",
       "      <th>Day</th>\n",
       "      <th>Hour</th>\n",
       "      <th>TDV Elec</th>\n",
       "      <th>TDV NatGas</th>\n",
       "      <th>TDV Propane</th>\n",
       "      <th>Dry Bulb</th>\n",
       "      <th>Wet Bulb</th>\n",
       "      <th>Dew Point</th>\n",
       "      <th>31-day Avg lag DB</th>\n",
       "      <th>...</th>\n",
       "      <th>7-day Avg lag DB</th>\n",
       "      <th>T Ground</th>\n",
       "      <th>previous day's peak DB</th>\n",
       "      <th>T sky</th>\n",
       "      <th>Wind direction</th>\n",
       "      <th>Wind speed</th>\n",
       "      <th>Global Horizontal Radiation</th>\n",
       "      <th>Direct Normal Radiation</th>\n",
       "      <th>Diffuse Horiz Radiation</th>\n",
       "      <th>Total Sky Cover</th>\n",
       "    </tr>\n",
       "  </thead>\n",
       "  <tbody>\n",
       "  </tbody>\n",
       "</table>\n",
       "<p>0 rows × 21 columns</p>\n",
       "</div>"
      ],
      "text/plain": [
       "Empty DataFrame\n",
       "Columns: [Month, Day, Hour, TDV Elec, TDV NatGas, TDV Propane, Dry Bulb, Wet Bulb, Dew Point, 31-day Avg lag DB, 14-day Avg lag DB, 7-day Avg lag DB, T Ground, previous day's peak DB, T sky, Wind direction, Wind speed, Global Horizontal Radiation, Direct Normal Radiation, Diffuse Horiz Radiation, Total Sky Cover]\n",
       "Index: []\n",
       "\n",
       "[0 rows x 21 columns]"
      ]
     },
     "execution_count": 33,
     "metadata": {},
     "output_type": "execute_result"
    }
   ],
   "source": [
    "First_Hour"
   ]
  },
  {
   "cell_type": "code",
   "execution_count": null,
   "metadata": {},
   "outputs": [],
   "source": []
  }
 ],
 "metadata": {
  "kernelspec": {
   "display_name": "Python 3",
   "language": "python",
   "name": "python3"
  },
  "language_info": {
   "codemirror_mode": {
    "name": "ipython",
    "version": 3
   },
   "file_extension": ".py",
   "mimetype": "text/x-python",
   "name": "python",
   "nbconvert_exporter": "python",
   "pygments_lexer": "ipython3",
   "version": "3.7.3"
  }
 },
 "nbformat": 4,
 "nbformat_minor": 2
}
