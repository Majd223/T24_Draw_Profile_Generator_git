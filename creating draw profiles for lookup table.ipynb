{
 "cells": [
  {
   "cell_type": "code",
   "execution_count": 1,
   "metadata": {},
   "outputs": [
    {
     "name": "stderr",
     "output_type": "stream",
     "text": [
      "/Users/nathanieliltis/anaconda3/lib/python3.7/site-packages/pandas/core/frame.py:6692: FutureWarning: Sorting because non-concatenation axis is not aligned. A future version\n",
      "of pandas will change to not sort by default.\n",
      "\n",
      "To accept the future behavior, pass 'sort=False'.\n",
      "\n",
      "To retain the current behavior and silence the warning, pass 'sort=True'.\n",
      "\n",
      "  sort=sort)\n"
     ]
    },
    {
     "name": "stdout",
     "output_type": "stream",
     "text": [
      "total = 3.375523805618286, mixed = 0, hot = 0\n"
     ]
    }
   ],
   "source": [
    "%run T24_Draw_Profile_Generator.py"
   ]
  },
  {
   "cell_type": "code",
   "execution_count": 10,
   "metadata": {},
   "outputs": [
    {
     "name": "stdout",
     "output_type": "stream",
     "text": [
      "Code block 'csv data to file for climate zone 1' took: 487.25254 ms\n",
      "Code block 'converting to climate zone 1 complete, it' took: 1299.40346 ms\n",
      "Code block 'csv data to file for climate zone 2' took: 475.54297 ms\n",
      "Code block 'converting to climate zone 2 complete, it' took: 1441.46036 ms\n",
      "Code block 'csv data to file for climate zone 3' took: 542.14535 ms\n",
      "Code block 'converting to climate zone 3 complete, it' took: 1496.49120 ms\n",
      "Code block 'csv data to file for climate zone 4' took: 416.18714 ms\n",
      "Code block 'converting to climate zone 4 complete, it' took: 1780.29798 ms\n",
      "Code block 'csv data to file for climate zone 5' took: 439.56471 ms\n",
      "Code block 'converting to climate zone 5 complete, it' took: 1346.03164 ms\n",
      "Code block 'csv data to file for climate zone 6' took: 912.75502 ms\n",
      "Code block 'converting to climate zone 6 complete, it' took: 1902.58385 ms\n",
      "Code block 'csv data to file for climate zone 7' took: 480.83478 ms\n",
      "Code block 'converting to climate zone 7 complete, it' took: 1825.04757 ms\n",
      "Code block 'csv data to file for climate zone 8' took: 646.92326 ms\n",
      "Code block 'converting to climate zone 8 complete, it' took: 1628.73295 ms\n",
      "Code block 'csv data to file for climate zone 9' took: 468.36158 ms\n",
      "Code block 'converting to climate zone 9 complete, it' took: 1503.25817 ms\n",
      "Code block 'csv data to file for climate zone 10' took: 441.34370 ms\n",
      "Code block 'converting to climate zone 10 complete, it' took: 1336.46908 ms\n",
      "Code block 'csv data to file for climate zone 11' took: 523.19509 ms\n",
      "Code block 'converting to climate zone 11 complete, it' took: 1437.35854 ms\n",
      "Code block 'csv data to file for climate zone 12' took: 734.37327 ms\n",
      "Code block 'converting to climate zone 12 complete, it' took: 2068.44476 ms\n",
      "Code block 'csv data to file for climate zone 13' took: 554.81607 ms\n",
      "Code block 'converting to climate zone 13 complete, it' took: 1669.82101 ms\n",
      "Code block 'csv data to file for climate zone 14' took: 452.54452 ms\n",
      "Code block 'converting to climate zone 14 complete, it' took: 1388.91586 ms\n",
      "Code block 'csv data to file for climate zone 15' took: 461.98211 ms\n",
      "Code block 'converting to climate zone 15 complete, it' took: 1524.42109 ms\n",
      "Code block 'csv data to file for climate zone 16' took: 495.00863 ms\n",
      "Code block 'converting to climate zone 16 complete, it' took: 1401.39975 ms\n",
      "time to run = 25.484461069107056\n"
     ]
    }
   ],
   "source": [
    "%run Convert_Profile_Climate_Zone.py"
   ]
  },
  {
   "cell_type": "code",
   "execution_count": null,
   "metadata": {},
   "outputs": [],
   "source": []
  }
 ],
 "metadata": {
  "kernelspec": {
   "display_name": "Python 3",
   "language": "python",
   "name": "python3"
  },
  "language_info": {
   "codemirror_mode": {
    "name": "ipython",
    "version": 3
   },
   "file_extension": ".py",
   "mimetype": "text/x-python",
   "name": "python",
   "nbconvert_exporter": "python",
   "pygments_lexer": "ipython3",
   "version": "3.7.3"
  }
 },
 "nbformat": 4,
 "nbformat_minor": 2
}
