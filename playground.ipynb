{
 "cells": [
  {
   "cell_type": "code",
   "execution_count": 2,
   "metadata": {},
   "outputs": [
    {
     "name": "stdout",
     "output_type": "stream",
     "text": [
      "['1D0' '1D1' '1D2' '1D3' '1D4' '1D5' '1D6' '1D7' '1D8' '1D9' '1E0' '1E1'\n",
      " '1E2' '1E3' '1E4' '1E5' '1E6' '1E7' '1E8' '1E9' '1H0' '1H1' '1H2' '1H3'\n",
      " '1H4' '1H5' '1H6' '1H7' '1H8' '1H9' '2D0' '2D1' '2D2' '2D3' '2D4' '2D5'\n",
      " '2D6' '2D7' '2D8' '2D9' '2E1' '2E2' '2E3' '2E4' '2E5' '2E6' '2E7' '2E8'\n",
      " '2E9' '2H0' '2H1' '2H2' '2H3' '2H4' '2H5' '2H6' '2H7' '2H8' '2H9' '3D0'\n",
      " '3D1' '3D2' '3D3' '3D4' '3D5' '3D6' '3D7' '3D8' '3D9' '3E0' '3E1' '3E2'\n",
      " '3E3' '3E4' '3E5' '3E6' '3E7' '3E8' '3E9' '3H0' '3H1' '3H2' '3H3' '3H4'\n",
      " '3H5' '3H6' '3H7' '3H8' '3H9' '4D0' '4D1' '4D2' '4D3' '4D4' '4D5' '4D6'\n",
      " '4D7' '4D8' '4D9' '4E0' '4E1' '4E2' '4E3' '4E4' '4E5' '4E6' '4E7' '4E8'\n",
      " '4E9' '4H0' '4H1' '4H2' '4H3' '4H4' '4H5' '4H6' '4H7' '4H8' '4H9' '5D0'\n",
      " '5D1' '5D2' '5D3' '5D4' '5D5' '5D6' '5D7' '5D8' '5D9' '5E0' '5E1' '5E2'\n",
      " '5E3' '5E4' '5E5' '5E6' '5E7' '5E8' '5E9' '5H0' '5H1' '5H2' '5H3' '5H4'\n",
      " '5H5' '5H6' '5H7' '5H8' '6D1' '6D2' '6D3' '6D4' '6D5' '6D6' '6D7' '6D8'\n",
      " '6D9' '6E0' '6E1' '6E2' '6E3' '6E4' '6E5' '6E6' '6E7' '6E8' '6E9' '6H0'\n",
      " '6H1' '6H2' '6H3']\n",
      "Creating profiles\n",
      "Converting profiles to timestep-based\n",
      "Saving draw profiles to .csv\n"
     ]
    }
   ],
   "source": [
    "import os\n",
    "import datetime\n",
    "import pandas as pd\n",
    "import numpy as np\n",
    "from SingleDay_DrawProfile_Generator import Create_Hot_Profiles, Calculate_TMains\n",
    "from Event_To_Timestep_Converter import Convert_Profile_SingleDay\n",
    "\n",
    "#%%-----------------------DEFINE INPUTS------------------------------------\n",
    "\n",
    "# Set details for draw profiles\n",
    "ClimateZone = 3  # Specify the CEC climate zone used in these calculations\n",
    "Include_Faucet = 'Yes' # State whether ('Yes') or not ('No') to include faucets in the draw profile\n",
    "Include_Shower = 'Yes' # State whether ('Yes') or not ('No') to include showers in the draw profile\n",
    "Include_Clothes = 'Yes' # State whether ('Yes') or not ('No') to include clothes washers in the draw profile\n",
    "Include_Dish = 'Yes' # State whether ('Yes') or not ('No') to include dish washers in the draw profile\n",
    "Include_Bath = 'Yes' # State whether ('Yes') or not ('No') to include baths in the draw profile\n",
    "Version = 2019 # State which version of the Title 24 draw profiels to use (2016 or 2019 at this time)\n",
    "Temperature_Bath = 105 # State the temperature of hot water occupants use when taking baths. deg F\n",
    "Temperature_Shower = 105 # State the temperature of hot water occupants use when taking showers. deg F\n",
    "SquareFootage_Dwelling = 1897 # State the conditioned floor area of the dwelling. ft^2\n",
    "Water = 'Hot' # 'Hot' water from the water heater or 'Mixed' water from the fixture\n",
    "Distribution_System_Type = 'Trunk and Branch' # The type of distribution system taking water to the fixtures\n",
    "Timestep = 15 # Timestep to use when converting profiles to timestep-based. Seconds\n",
    "\n",
    "Date = datetime.datetime(2022, 1, 1, 0, 0, 0) # The date at the start of the draw profile\n",
    "Day_Of_Year = Date.timetuple().tm_yday\n",
    "T_Mains = Calculate_TMains(ClimateZone) # Calcualte the inlet water temperature. Modify to enable nationwide calculations\n",
    "Daily_Profiles = pd.read_csv(os.path.join(os.getcwd(), 'SourceData', '2019', 'DailyProfiles.csv'), index_col = 0)\n",
    "Profile_List = np.unique(Daily_Profiles.index)\n",
    "print(Profile_List)\n",
    "print('Creating profiles')\n",
    "Profiles = Create_Hot_Profiles('Single', Profile_List, ClimateZone, Include_Faucet, Include_Shower, Include_Clothes, Include_Dish, \n",
    "                                Include_Bath, Version, T_Mains, Day_Of_Year, Temperature_Bath, Temperature_Shower, SquareFootage_Dwelling, \n",
    "                                Water, Distribution_System_Type)\n",
    "\n",
    "print('Converting profiles to timestep-based')\n",
    "for key in Profiles.keys():\n",
    "    Profiles[key] = Convert_Profile_SingleDay(Profiles[key], Day_Of_Year, Timestep, ClimateZone)\n",
    "    \n",
    "print('Saving draw profiles to .csv')\n",
    "for key in Profiles.keys():\n",
    "    Profiles[key].to_csv(os.path.join(os.getcwd(), 'DrawProfiles', '{}.csv'.format(key)))\n",
    "    "
   ]
  }
 ],
 "metadata": {
  "kernelspec": {
   "display_name": "pufenv",
   "language": "python",
   "name": "python3"
  },
  "language_info": {
   "codemirror_mode": {
    "name": "ipython",
    "version": 3
   },
   "file_extension": ".py",
   "mimetype": "text/x-python",
   "name": "python",
   "nbconvert_exporter": "python",
   "pygments_lexer": "ipython3",
   "version": "3.8.10"
  },
  "orig_nbformat": 4
 },
 "nbformat": 4,
 "nbformat_minor": 2
}
